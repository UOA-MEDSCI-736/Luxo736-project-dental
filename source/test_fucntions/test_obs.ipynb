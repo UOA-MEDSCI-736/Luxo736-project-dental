{
 "cells": [
  {
   "cell_type": "code",
   "execution_count": null,
   "metadata": {
    "collapsed": true
   },
   "outputs": [],
   "source": [
    "from  import *\n",
    "\n",
    "def test_file_name_string():\n",
    "    # setup i.e. dummy parameters\n",
    "    input_filename = \"hola\"\n",
    "    exp_output = None\n",
    "    \n",
    "    # call the function\n",
    "    real_output = read_my_file(input_filename)\n",
    "    \n",
    "    # compare\n",
    "    assert real_output == exp_output\n",
    "    "
   ]
  }
 ],
 "metadata": {
  "kernelspec": {
   "display_name": "Python 3",
   "language": "python",
   "name": "python3"
  },
  "language_info": {
   "codemirror_mode": {
    "name": "ipython",
    "version": 3
   },
   "file_extension": ".py",
   "mimetype": "text/x-python",
   "name": "python",
   "nbconvert_exporter": "python",
   "pygments_lexer": "ipython3",
   "version": "3.5.2"
  }
 },
 "nbformat": 4,
 "nbformat_minor": 0
}
