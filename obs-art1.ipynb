{
 "cells": [
  {
   "cell_type": "code",
   "execution_count": 59,
   "metadata": {
    "collapsed": true
   },
   "outputs": [],
   "source": [
    "line = \"S1Artefact,Mt Wellington,Cooks Bay,AR 3980b,Vacuum 45kv 15ma,CVZ-CP,,,,,,394662,455,88259,5221,600,43501,6284,63640,29871,\""
   ]
  },
  {
   "cell_type": "code",
   "execution_count": 60,
   "metadata": {
    "collapsed": false
   },
   "outputs": [
    {
     "name": "stdout",
     "output_type": "stream",
     "text": [
      "['S1Artefact', 'Mt Wellington', 'Cooks Bay', 'AR 3980b', 'Vacuum 45kv 15ma', 'CVZ-CP', '', '', '', '', '', '394662', '455', '88259', '5221', '600', '43501', '6284', '63640', '29871', '']\n"
     ]
    }
   ],
   "source": [
    "cutline =line.split(\",\")\n",
    "print(cutline)"
   ]
  },
  {
   "cell_type": "code",
   "execution_count": 61,
   "metadata": {
    "collapsed": false
   },
   "outputs": [],
   "source": [
    "sample = cutline[0]\n",
    "\n",
    "\n",
    "area = cutline[1]\n",
    "\n",
    "\n",
    "source = cutline[2]\n",
    "\n",
    "\n",
    "sample_id = cutline[3]\n",
    "\n"
   ]
  },
  {
   "cell_type": "code",
   "execution_count": 62,
   "metadata": {
    "collapsed": false
   },
   "outputs": [],
   "source": [
    "artefact = {\n",
    "    'id': sample_id,\n",
    "    'sample': sample,\n",
    "    'source': source,\n",
    "    'area': area\n",
    "    \n",
    "}"
   ]
  },
  {
   "cell_type": "code",
   "execution_count": 63,
   "metadata": {
    "collapsed": false
   },
   "outputs": [
    {
     "name": "stdout",
     "output_type": "stream",
     "text": [
      "{'source': 'Cooks Bay', 'sample': 'S1Artefact', 'area': 'Mt Wellington', 'id': 'AR 3980b'}\n"
     ]
    }
   ],
   "source": [
    "print(artefact)"
   ]
  }
 ],
 "metadata": {
  "kernelspec": {
   "display_name": "Python 3",
   "language": "python",
   "name": "python3"
  },
  "language_info": {
   "codemirror_mode": {
    "name": "ipython",
    "version": 3
   },
   "file_extension": ".py",
   "mimetype": "text/x-python",
   "name": "python",
   "nbconvert_exporter": "python",
   "pygments_lexer": "ipython3",
   "version": "3.5.2"
  }
 },
 "nbformat": 4,
 "nbformat_minor": 0
}
