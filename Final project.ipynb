{
 "cells": [
  {
   "cell_type": "code",
   "execution_count": 5,
   "metadata": {
    "collapsed": false
   },
   "outputs": [
    {
     "name": "stdout",
     "output_type": "stream",
     "text": [
      "diverse artetefacts found in Nz from Pacific Communities\n"
     ]
    }
   ],
   "source": [
    "#obsidian objects\n",
    "\n",
    "obsidian_objects = \"diverse artetefacts found in Nz from Pacific Communities\"\n",
    "print (obsidian_objects)\n",
    "\n",
    "# add title to piece of software."
   ]
  },
  {
   "cell_type": "code",
   "execution_count": 15,
   "metadata": {
    "collapsed": false,
    "scrolled": true
   },
   "outputs": [
    {
     "name": "stdout",
     "output_type": "stream",
     "text": [
      "cols 21\n",
      "rows 1070\n"
     ]
    }
   ],
   "source": [
    "from pprint import *\n",
    "#from intertools import * # to perform with efficient loops\n",
    "#from networkx import * # to work with  graphics.\n",
    "\n",
    "\n",
    "def read_my_file(filename):\n",
    "    obsidian_artefacts = open(filename)\n",
    "    # in order to open data that is previously in an accepted format, the variable must be equal to a comand OPEN that will get access to the data\n",
    "\n",
    "    data = obsidian_artefacts.read()\n",
    "    # this next part  will be able to read whate is inside my variable \"obsidian_artefacts\"\n",
    "\n",
    "    datarows = data.split('\\n')\n",
    "\n",
    "\n",
    "    datarows\n",
    "    # which will print my information without any speficific  instruction.\n",
    "\n",
    "\n",
    "\n",
    "    #chop each string in datarows into a list of strings where each splitted string is a cell_value\n",
    "    cell_values = []\n",
    "    for eachrow in datarows:\n",
    "        cell_values.append(eachrow.split(','))\n",
    "\n",
    "\n",
    "    cell_values\n",
    "    #print\n",
    "\n",
    "    obs_dict = {}\n",
    "\n",
    "    header_keys = cell_values[0]\n",
    "\n",
    "    for col_index in range(0,len(header_keys)):\n",
    "\n",
    "        key = header_keys[col_index]\n",
    "\n",
    "        values=[]\n",
    "\n",
    "        for row_index in range(1,len(cell_values)-1):\n",
    "            eachrow = cell_values[row_index]\n",
    "            values.append(eachrow[col_index])\n",
    "\n",
    "\n",
    "        obs_dict[key] = values\n",
    "\n",
    "    return obs_dict\n",
    "\n",
    "\n",
    "o_dict = read_my_file('obs-art.csv')\n",
    "print('cols',len(o_dict.keys()))\n",
    "print('rows',len(o_dict['Sample_Type']))"
   ]
  },
  {
   "cell_type": "code",
   "execution_count": 2,
   "metadata": {
    "collapsed": true
   },
   "outputs": [],
   "source": [
    "# fucntion tries to create an answer for empty cells where there is not any information available.\n",
    "def no_available_data(cell):\n",
    "        if cell == \"\":\n",
    "            return \"no_data_available\"\n",
    "        else:\n",
    "            return cell\n",
    "        "
   ]
  },
  {
   "cell_type": "code",
   "execution_count": null,
   "metadata": {
    "collapsed": true
   },
   "outputs": [],
   "source": [
    "# function to print the whole sample type\n",
    "def sample_type(cell):\n",
    "    from list_"
   ]
  },
  {
   "cell_type": "code",
   "execution_count": null,
   "metadata": {
    "collapsed": true
   },
   "outputs": [],
   "source": [
    "# in this function you introduce article number and your return would be the whole row associated.\n",
    "\n",
    "def article_number(cell):\n",
    "    \n",
    "    for sample_type in \n",
    "    "
   ]
  },
  {
   "cell_type": "code",
   "execution_count": 16,
   "metadata": {
    "collapsed": true
   },
   "outputs": [],
   "source": [
    "first_line = 'Sample_Type,Study Area,Source_Specific,Sample_ID,XRF_Setting,Source_Zone,Rb_ppm,Sr_ppm,Y_ppm,Zr_ppm,Nb_ppm,Si_ppm,Ti_ppm,Al_ppm,Fe_ppm,Mn_ppm,Mg_ppm,Ca_ppm,Na_ppm,K_ppm,Bag_Info'\n",
    "# as an example i will take the first line to organise something basic."
   ]
  },
  {
   "cell_type": "code",
   "execution_count": 17,
   "metadata": {
    "collapsed": false
   },
   "outputs": [
    {
     "name": "stdout",
     "output_type": "stream",
     "text": [
      "['Sample_Type', 'Study Area', 'Source_Specific', 'Sample_ID', 'XRF_Setting', 'Source_Zone', 'Rb_ppm', 'Sr_ppm', 'Y_ppm', 'Zr_ppm', 'Nb_ppm', 'Si_ppm', 'Ti_ppm', 'Al_ppm', 'Fe_ppm', 'Mn_ppm', 'Mg_ppm', 'Ca_ppm', 'Na_ppm', 'K_ppm', 'Bag_Info']\n"
     ]
    }
   ],
   "source": [
    "cutline = first_line.split(\",\")\n",
    "print(cutline)\n",
    "# the outcome must be the first line divided by comes \",\""
   ]
  },
  {
   "cell_type": "code",
   "execution_count": 18,
   "metadata": {
    "collapsed": false
   },
   "outputs": [
    {
     "name": "stdout",
     "output_type": "stream",
     "text": [
      "{'sample': 'Sample_Type', 'source': 'Source_Specific', 'area': 'Study Area', 'id': 'Sample_ID'}\n"
     ]
    }
   ],
   "source": [
    "from pprint import *\n",
    "\n",
    "obsidian_artefacts = open('obs-art.py')\n",
    "\n",
    "objects = []\n",
    "for any_line in obsidian_artefacts:\n",
    "\n",
    "\n",
    "    column1 = cutline[0]\n",
    "    column2 = cutline[1]\n",
    "    column3 = cutline[2]\n",
    "    column4 = cutline[3]\n",
    "# I asigned new variables to refer each specific object from my previous main variable \"cutline\"\n",
    "\n",
    "obs_obj = {'sample':column1,'area':column2,'source':column3,'id':column4}\n",
    "# I try join the main features of a particular variable that will be my imput once the program is running\n",
    "\n",
    "\n",
    "print(obs_obj)\n",
    "# print whatever is clasify as my obsidian object and will display specific elements.\n",
    "\n",
    "objects.append(obs_obj)\n",
    "\n"
   ]
  },
  {
   "cell_type": "code",
   "execution_count": 10,
   "metadata": {
    "collapsed": true
   },
   "outputs": [],
   "source": [
    "# write a loop that looks at every artefact in obsidians list and prints just the location\n"
   ]
  },
  {
   "cell_type": "code",
   "execution_count": 11,
   "metadata": {
    "collapsed": false
   },
   "outputs": [],
   "source": [
    "# write a loop that looks at every artefact and only prints it if its location is mt wellington\n"
   ]
  },
  {
   "cell_type": "code",
   "execution_count": 12,
   "metadata": {
    "collapsed": false
   },
   "outputs": [
    {
     "data": {
      "text/plain": [
       "{'h1': ['v1', 'v2', 'v3']}"
      ]
     },
     "execution_count": 12,
     "metadata": {},
     "output_type": "execute_result"
    }
   ],
   "source": [
    "temp = 'h1\\nv1\\nv2\\nv3'\n",
    "\n",
    "rows = temp.split('\\n')\n",
    "\n",
    "#print(temp)\n",
    "cell_values = []\n",
    "for eachrow in rows:\n",
    "    cell_values.append(eachrow.split(','))\n",
    "    \n",
    "cell_values\n",
    "\n",
    "obs_dict = {}\n",
    "\n",
    "header_keys = cell_values[0]\n",
    "\n",
    "for col_index in range(0,len(header_keys)):\n",
    "    \n",
    "    key = header_keys[col_index]\n",
    "\n",
    "\n",
    "#values = []\n",
    "\n",
    "#values_at1row = cell_values[1]\n",
    "#v1 = values_at1row[0]\n",
    "#values.append(v1)\n",
    "\n",
    "#values_at2row = cell_values[2]\n",
    "#v2 = values_at2row[0]\n",
    "#values.append(v2)\n",
    "\n",
    "#values_at3row = cell_values[3]\n",
    "#v3 = values_at3row[0]\n",
    "#values.append(v3)\n",
    "\n",
    "#cell_values_no_header = \n",
    "\n",
    "    values=[]\n",
    "\n",
    "    for row_index in range(1,len(cell_values)):\n",
    "        eachrow = cell_values[row_index]\n",
    "        values.append(eachrow[col_index])\n",
    "\n",
    "\n",
    "    obs_dict[key] = values\n",
    "\n",
    "obs_dict"
   ]
  },
  {
   "cell_type": "code",
   "execution_count": 13,
   "metadata": {
    "collapsed": false
   },
   "outputs": [
    {
     "name": "stdout",
     "output_type": "stream",
     "text": [
      "1\n",
      "2\n",
      "3\n",
      "4\n"
     ]
    }
   ],
   "source": [
    "for i in range(1,5): \n",
    "    print(i)"
   ]
  }
 ],
 "metadata": {
  "kernelspec": {
   "display_name": "Python 3",
   "language": "python",
   "name": "python3"
  },
  "language_info": {
   "codemirror_mode": {
    "name": "ipython",
    "version": 3
   },
   "file_extension": ".py",
   "mimetype": "text/x-python",
   "name": "python",
   "nbconvert_exporter": "python",
   "pygments_lexer": "ipython3",
   "version": "3.5.2"
  }
 },
 "nbformat": 4,
 "nbformat_minor": 0
}
